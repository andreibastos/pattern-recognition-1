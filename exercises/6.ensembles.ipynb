{
 "metadata": {
  "language_info": {
   "codemirror_mode": {
    "name": "ipython",
    "version": 3
   },
   "file_extension": ".py",
   "mimetype": "text/x-python",
   "name": "python",
   "nbconvert_exporter": "python",
   "pygments_lexer": "ipython3",
   "version": "3.6.9-final"
  },
  "orig_nbformat": 2,
  "kernelspec": {
   "name": "python3",
   "display_name": "Python 3.6.9 64-bit ('.venv')",
   "metadata": {
    "interpreter": {
     "hash": "12e3a767b3ad2f27782979328795b92c097b8b0af5546e57a0bb43dd59d779c1"
    }
   }
  }
 },
 "nbformat": 4,
 "nbformat_minor": 2,
 "cells": [
  {
   "source": [
    "# Dataset "
   ],
   "cell_type": "markdown",
   "metadata": {}
  },
  {
   "cell_type": "code",
   "execution_count": 53,
   "metadata": {},
   "outputs": [
    {
     "output_type": "execute_result",
     "data": {
      "text/plain": [
       "((1000, 20), (1000,))"
      ]
     },
     "metadata": {},
     "execution_count": 53
    }
   ],
   "source": [
    "from sklearn.datasets import fetch_openml\n",
    "import matplotlib.pyplot as plt\n",
    "dataset = fetch_openml(data_id='31')\n",
    "X, y = dataset.data, dataset.target\n",
    "X.shape, y.shape"
   ]
  },
  {
   "source": [
    "# Divisão do treinamento e test"
   ],
   "cell_type": "markdown",
   "metadata": {}
  },
  {
   "source": [
    "from sklearn.model_selection import train_test_split \n",
    "X_train, X_test, y_train, y_test = train_test_split(X, y, random_state=10)\n",
    "X_train.shape, X_test.shape, y_train.shape, y_test.shape"
   ],
   "cell_type": "code",
   "metadata": {},
   "execution_count": 54,
   "outputs": [
    {
     "output_type": "execute_result",
     "data": {
      "text/plain": [
       "((750, 20), (250, 20), (750,), (250,))"
      ]
     },
     "metadata": {},
     "execution_count": 54
    }
   ]
  },
  {
   "source": [
    "# Modelos de clasificação"
   ],
   "cell_type": "markdown",
   "metadata": {}
  },
  {
   "cell_type": "code",
   "execution_count": 64,
   "metadata": {
    "tags": []
   },
   "outputs": [
    {
     "output_type": "execute_result",
     "data": {
      "text/plain": [
       "(array([ True,  True,  True,  True,  True,  True,  True,  True,  True,\n",
       "        False,  True, False, False,  True,  True,  True,  True,  True,\n",
       "         True,  True,  True,  True,  True,  True, False,  True,  True,\n",
       "        False, False, False,  True, False,  True,  True,  True,  True,\n",
       "        False, False,  True,  True, False, False,  True,  True, False,\n",
       "         True,  True,  True,  True,  True,  True, False,  True,  True,\n",
       "         True,  True, False, False, False,  True,  True,  True,  True,\n",
       "        False,  True,  True, False, False, False,  True,  True, False,\n",
       "         True,  True, False, False, False,  True,  True, False,  True,\n",
       "         True, False,  True,  True,  True, False,  True, False,  True,\n",
       "         True,  True,  True,  True,  True, False, False, False, False,\n",
       "        False,  True,  True,  True,  True,  True, False,  True,  True,\n",
       "         True,  True,  True,  True,  True,  True, False,  True, False,\n",
       "         True, False,  True,  True,  True,  True,  True,  True,  True,\n",
       "        False,  True, False,  True, False,  True,  True, False, False,\n",
       "         True,  True,  True,  True, False, False,  True, False,  True,\n",
       "         True, False, False,  True,  True,  True, False, False,  True,\n",
       "         True, False,  True, False,  True, False,  True,  True,  True,\n",
       "        False,  True,  True, False,  True,  True,  True,  True,  True,\n",
       "         True,  True,  True,  True,  True, False, False,  True,  True,\n",
       "        False, False, False,  True,  True,  True, False,  True, False,\n",
       "        False,  True,  True,  True,  True, False,  True, False, False,\n",
       "        False,  True,  True, False,  True, False,  True, False,  True,\n",
       "         True, False,  True,  True,  True,  True,  True,  True, False,\n",
       "         True,  True, False, False,  True,  True, False, False, False,\n",
       "         True,  True, False, False, False, False,  True,  True,  True,\n",
       "         True,  True, False,  True, False, False,  True,  True,  True,\n",
       "         True, False,  True,  True,  True,  True,  True]),\n",
       " 0.66)"
      ]
     },
     "metadata": {},
     "execution_count": 64
    }
   ],
   "source": [
    "from sklearn.model_selection import GridSearchCV\n",
    "from sklearn.pipeline import Pipeline\n",
    "from sklearn.linear_model import LogisticRegression\n",
    "from sklearn.svm import SVC\n",
    "from sklearn.neighbors import KNeighborsClassifier\n",
    "from sklearn.ensemble import RandomForestClassifier\n",
    "from sklearn.tree import DecisionTreeClassifier\n",
    "from sklearn.ensemble import VotingClassifier, StackingClassifier\n",
    "\n",
    "import warnings\n",
    "warnings.filterwarnings('ignore')\n",
    "\n",
    "# voting\n",
    "voting = VotingClassifier(estimators =[\n",
    "    ('logistic', LogisticRegression()),\n",
    "    ('svc', SVC(probability=True)),\n",
    "    ('knn', KNeighborsClassifier())\n",
    "])\n",
    "\n",
    "voting_params = {\n",
    "    'voting': ['hard', 'soft'],\n",
    "    'logistic__solver': ['liblinear', 'lbfgs'],\n",
    "    'svc__decision_function_shape': ['ovo', 'ovr'],\n",
    "    'svc__C': [10, 100],\n",
    "    'knn__n_neighbors': [3, 5, 9],\n",
    "}\n",
    "\n",
    "grid_voting = GridSearchCV(voting, param_grid=voting_params, n_jobs=-1)\n",
    "\n",
    "# stacking \n",
    "stacking = StackingClassifier(estimators=[\n",
    "    ('tree', DecisionTreeClassifier(splitter='random')),\n",
    "    ('randomforest', RandomForestClassifier(random_state=10)),\n",
    "    ('knn', KNeighborsClassifier())\n",
    "])\n",
    "\n",
    "stacking_params = {\n",
    "    'passthrough': [True, False],\n",
    "    'tree__max_depth': [None, 7, 14],    \n",
    "    'knn__weights':['uniform', 'distance'],   \n",
    "    'randomforest__max_depth': [None, 7, 14]\n",
    "}\n",
    "\n",
    "grid_stacking = GridSearchCV(stacking, param_grid=stacking_params, n_jobs=-1)\n",
    "\n",
    "# pipeline do modelo geral\n",
    "pipemodel = Pipeline([\n",
    "    ('voting', grid_voting),\n",
    "    ('stacking', grid_stacking)\n",
    "])\n",
    "\n",
    "params_model = {\n",
    "    'voting__cv':[3, 5],\n",
    "    'stacking__cv':[3, 5]\n",
    "}\n",
    "\n",
    "model = GridSearchCV(pipemodel, param_grid=params_model, n_jobs=-1)\n",
    "model.fit(X_train, y_train)\n",
    "predict = model.predict(X_test)\n",
    "hits = predict == y_test\n",
    "hits, sum(hits)/len(hits)\n"
   ]
  }
 ]
}
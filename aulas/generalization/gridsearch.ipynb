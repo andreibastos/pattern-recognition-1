{
 "metadata": {
  "language_info": {
   "codemirror_mode": {
    "name": "ipython",
    "version": 3
   },
   "file_extension": ".py",
   "mimetype": "text/x-python",
   "name": "python",
   "nbconvert_exporter": "python",
   "pygments_lexer": "ipython3",
   "version": "3.6.9-final"
  },
  "orig_nbformat": 2,
  "kernelspec": {
   "name": "python3",
   "display_name": "Python 3.6.9 64-bit ('.venv')",
   "metadata": {
    "interpreter": {
     "hash": "12e3a767b3ad2f27782979328795b92c097b8b0af5546e57a0bb43dd59d779c1"
    }
   }
  }
 },
 "nbformat": 4,
 "nbformat_minor": 2,
 "cells": [
  {
   "cell_type": "code",
   "execution_count": 10,
   "metadata": {},
   "outputs": [
    {
     "output_type": "execute_result",
     "data": {
      "text/plain": [
       "((442, 10), (442,))"
      ]
     },
     "metadata": {},
     "execution_count": 10
    }
   ],
   "source": [
    "from sklearn.datasets import load_diabetes\n",
    "\n",
    "diabetes = load_diabetes()\n",
    "X, y = diabetes.data, diabetes.target\n",
    "X.shape, y.shape\n",
    "\n"
   ]
  },
  {
   "cell_type": "code",
   "execution_count": 11,
   "metadata": {},
   "outputs": [
    {
     "output_type": "stream",
     "name": "stdout",
     "text": [
      "[-56.19003238 -59.32108614 -59.00744094 -54.78238886 -57.37903883]\nsem pradronização -57.3359974298196\n"
     ]
    }
   ],
   "source": [
    "from sklearn.neighbors import KNeighborsRegressor\n",
    "from sklearn.model_selection import cross_validate\n",
    "from sklearn.metrics import make_scorer, mean_squared_error\n",
    "import numpy as np\n",
    "\n",
    "modelo = KNeighborsRegressor(9)\n",
    "scores  = cross_validate(modelo, X, y, scoring=make_scorer(mean_squared_error, greater_is_better=False, squared=False))\n",
    "print(scores['test_score'])\n",
    "sempad = np.mean(scores['test_score'])\n",
    "print(f\"sem pradronização {sempad}\")\n"
   ]
  },
  {
   "cell_type": "code",
   "execution_count": 12,
   "metadata": {},
   "outputs": [
    {
     "output_type": "execute_result",
     "data": {
      "text/plain": [
       "KNeighborsRegressor(n_neighbors=7)"
      ]
     },
     "metadata": {},
     "execution_count": 12
    }
   ],
   "source": [
    "from sklearn.model_selection import GridSearchCV\n",
    "from sklearn.neighbors import KNeighborsRegressor\n",
    "params = {\n",
    "    'n_neighbors':[3,5,7]\n",
    "}\n",
    "\n",
    "modelo = GridSearchCV(KNeighborsRegressor(), params, scoring=make_scorer(mean_squared_error, greater_is_better=False, squared=False))\n",
    "modelo.fit(X, y)\n",
    "modelo.best_estimator_"
   ]
  },
  {
   "cell_type": "code",
   "execution_count": 13,
   "metadata": {},
   "outputs": [
    {
     "output_type": "execute_result",
     "data": {
      "text/plain": [
       "51.15149901888715"
      ]
     },
     "metadata": {},
     "execution_count": 13
    }
   ],
   "source": [
    "from sklearn.metrics import make_scorer, mean_squared_error\n",
    "from math import sqrt\n",
    "\n",
    "ypred = modelo.predict(X)\n",
    "mse = mean_squared_error(y, ypred)\n",
    "sqrt(mse)"
   ]
  },
  {
   "cell_type": "code",
   "execution_count": 14,
   "metadata": {},
   "outputs": [
    {
     "output_type": "stream",
     "name": "stdout",
     "text": [
      "[-56.99180879 -62.93518794 -59.57483095 -55.63774296 -60.43146504]\nsem pradronização -59.114207135103996\n"
     ]
    }
   ],
   "source": [
    "scores  = cross_validate(modelo, X, y, scoring=make_scorer(mean_squared_error, greater_is_better=False, squared=False))\n",
    "print(scores['test_score'])\n",
    "sempad = np.mean(scores['test_score'])\n",
    "print(f\"sem pradronização {sempad}\")"
   ]
  },
  {
   "cell_type": "code",
   "execution_count": 18,
   "metadata": {},
   "outputs": [
    {
     "output_type": "stream",
     "name": "stdout",
     "text": [
      "[-56.82092904 -63.05450375 -60.15515846 -54.92728369 -59.33477082]\ncom pradronização -58.858529150715086\n"
     ]
    }
   ],
   "source": [
    "from sklearn.preprocessing import StandardScaler\n",
    "from sklearn.pipeline import Pipeline\n",
    "from sklearn.model_selection import GridSearchCV\n",
    "from sklearn.neighbors import KNeighborsRegressor\n",
    "params = {\n",
    "    'n_neighbors':[3,5,7]\n",
    "}\n",
    "\n",
    "grid_knn = GridSearchCV(KNeighborsRegressor(), params, scoring='neg_mean_squared_error')\n",
    "\n",
    "modelo = Pipeline([\n",
    "    ('padronizacao', StandardScaler()),\n",
    "    ('gsknn', grid_knn)\n",
    "])\n",
    "\n",
    "scores  = cross_validate(modelo, X, y, scoring=make_scorer(mean_squared_error, greater_is_better=False, squared=False))\n",
    "print(scores['test_score'])\n",
    "compad = np.mean(scores['test_score'])\n",
    "print(f\"com pradronização {compad}\")"
   ]
  },
  {
   "cell_type": "code",
   "execution_count": 21,
   "metadata": {},
   "outputs": [
    {
     "output_type": "stream",
     "name": "stdout",
     "text": [
      "[-56.82092904 -63.05450375 -60.15515846 -54.92728369 -59.33477082]\ncom pradronização -58.858529150715086\n"
     ]
    }
   ],
   "source": [
    "from sklearn.preprocessing import StandardScaler\n",
    "from sklearn.pipeline import Pipeline\n",
    "from sklearn.model_selection import GridSearchCV\n",
    "from sklearn.neighbors import KNeighborsRegressor\n",
    "\n",
    "pipeline = Pipeline([\n",
    "    ('padronizacao', StandardScaler()),\n",
    "    ('knn', KNeighborsRegressor())\n",
    "])\n",
    "\n",
    "params = {\n",
    "    'knn__n_neighbors':[3,5,7]\n",
    "}\n",
    "modelo = GridSearchCV(pipeline, params, scoring='neg_mean_squared_error')\n",
    "\n",
    "\n",
    "scores  = cross_validate(modelo, X, y, scoring=make_scorer(mean_squared_error, greater_is_better=False, squared=False))\n",
    "print(scores['test_score'])\n",
    "compad = np.mean(scores['test_score'])\n",
    "print(f\"com pradronização {compad}\")"
   ]
  }
 ]
}
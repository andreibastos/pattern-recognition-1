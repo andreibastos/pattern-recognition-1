{
 "metadata": {
  "language_info": {
   "codemirror_mode": {
    "name": "ipython",
    "version": 3
   },
   "file_extension": ".py",
   "mimetype": "text/x-python",
   "name": "python",
   "nbconvert_exporter": "python",
   "pygments_lexer": "ipython3",
   "version": "3.6.9-final"
  },
  "orig_nbformat": 2,
  "kernelspec": {
   "name": "python3",
   "display_name": "Python 3.6.9 64-bit ('.venv')",
   "metadata": {
    "interpreter": {
     "hash": "12e3a767b3ad2f27782979328795b92c097b8b0af5546e57a0bb43dd59d779c1"
    }
   }
  }
 },
 "nbformat": 4,
 "nbformat_minor": 2,
 "cells": [
  {
   "cell_type": "code",
   "execution_count": 163,
   "metadata": {},
   "outputs": [],
   "source": [
    "import pandas as pd\n",
    "train = pd.read_csv('data/train.csv')\n",
    "test = pd.read_csv('data/test.csv')\n",
    "X = train[list(test.columns)]\n",
    "y = train[train.columns[~train.columns.isin(test.columns)]]\n"
   ]
  },
  {
   "cell_type": "code",
   "execution_count": 164,
   "metadata": {},
   "outputs": [],
   "source": [
    "from sklearn.base import BaseEstimator, TransformerMixin\n",
    "\n",
    "def extraiPronome(nome):\n",
    "    titulo = nome.split(',')[1].split('.')[0].strip()\n",
    "    if (titulo in ['Mille','Ms','Lady', 'Miss']):\n",
    "        titulo = 'Miss'\n",
    "    elif (titulo in ['Mme', 'Sir']):\n",
    "        titulo = 'Mrs'\n",
    "    elif (titulo in ['Master', 'Mr', 'Mrs']):\n",
    "        titulo = 'Other'\n",
    "    return titulo\n",
    "\n",
    "\n",
    "class AtributosDesejados(BaseEstimator, TransformerMixin):\n",
    "    def __init__(self, excluirName=True, cabin=True):\n",
    "        self.excluirName = excluirName\n",
    "        self.cabin = cabin\n",
    "        \n",
    "    def fit(self, X, y=None):\n",
    "        self.colunasIndesejadas = ['PassengerId', 'Ticket', 'Cabin']\n",
    "        if self.excluirName:\n",
    "            self.colunasIndesejadas.append('Name')\n",
    "        if not self.cabin:\n",
    "            self.colunasIndesejadas.append('Cabin')\n",
    "\n",
    "        return self\n",
    "    def transform(self, X, y=None):\n",
    "        Xdrop = X.drop(self.colunasIndesejadas,axis=1)\n",
    "        if 'Name' not in self.colunasIndesejadas:\n",
    "            Xdrop['Name'] = Xdrop['Name'].apply(extraiPronome)\n",
    "        if 'Cabin' not in self.colunasIndesejadas:\n",
    "            full['CabinType'] = full['Cabin'].astype(str).str[0]\n",
    "        return Xdrop\n",
    "    "
   ]
  },
  {
   "cell_type": "code",
   "execution_count": 165,
   "metadata": {},
   "outputs": [],
   "source": [
    "from sklearn.base import BaseEstimator, TransformerMixin\n",
    "\n",
    "class AtributosNumericos(BaseEstimator, TransformerMixin):\n",
    "    def fit(self, X, y=None):\n",
    "        self.colunasNumericas = X.select_dtypes(include='number').columns\n",
    "        return self\n",
    "    def transform(self, X, y=None):\n",
    "        return X[self.colunasNumericas].to_numpy()\n"
   ]
  },
  {
   "cell_type": "code",
   "execution_count": 166,
   "metadata": {},
   "outputs": [],
   "source": [
    "from sklearn.base import BaseEstimator, TransformerMixin\n",
    "\n",
    "class AtributosCategoricos(BaseEstimator, TransformerMixin):\n",
    "    def fit(self, X, y=None):\n",
    "        self.colunasCategoricas = X.select_dtypes(include='object').columns\n",
    "        return self\n",
    "    def transform(self, X, y=None):\n",
    "        return X[self.colunasCategoricas].to_numpy()"
   ]
  },
  {
   "cell_type": "code",
   "execution_count": 167,
   "metadata": {},
   "outputs": [],
   "source": [
    "class AtributoIdade(BaseEstimator, TransformerMixin):\n",
    "    def __init__(self, categorizar=True):\n",
    "        self.categorizar = categorizar\n",
    "    def fit(self, X, y=None):\n",
    "        self.idade = 1\n",
    "        return self\n",
    "    def transform(self, X, y=None):\n",
    "         if self.categorizar:\n",
    "            idades = X[:, self.idade]\n",
    "            cat_idades = pd.cut(idades,[0,9,18,30,40,50,100], labels=[9,18,30,40,50,100]).astype(int)\n",
    "            X[:, self.idade] = cat_idades\n",
    "         return X"
   ]
  },
  {
   "cell_type": "code",
   "execution_count": 168,
   "metadata": {},
   "outputs": [],
   "source": [
    "from sklearn.impute import SimpleImputer\n",
    "from sklearn.preprocessing import OneHotEncoder, StandardScaler\n",
    "from sklearn.pipeline import Pipeline, FeatureUnion\n",
    "\n",
    "trataAtributos = Pipeline([\n",
    "    ('unecaracteristicas', FeatureUnion([\n",
    "        ('pipenum', Pipeline([\n",
    "            ('atributos_numericos', AtributosNumericos()),\n",
    "            ('imputer', SimpleImputer(strategy='median')),\n",
    "            ('idade', AtributoIdade()),\n",
    "            ('scaler', StandardScaler())\n",
    "        ])),\n",
    "        ('pipecat', Pipeline([\n",
    "            ('atributos_categoricos', AtributosCategoricos()),\n",
    "            ('imputer', SimpleImputer(strategy='most_frequent')),\n",
    "            ('encoder', OneHotEncoder(handle_unknown='ignore'))\n",
    "        ]))\n",
    "    ])),\n",
    "])\n"
   ]
  },
  {
   "cell_type": "code",
   "execution_count": 173,
   "metadata": {
    "tags": []
   },
   "outputs": [
    {
     "output_type": "stream",
     "name": "stdout",
     "text": [
      "roc_auc Total 0:05:10.539376 - Mean scores 0.8652927388858126, Std 0.02999732009231759\n----------------------------\n"
     ]
    }
   ],
   "source": [
    "from sklearn.ensemble import RandomForestClassifier\n",
    "from sklearn.model_selection import GridSearchCV, cross_validate, RepeatedKFold\n",
    "import numpy as np\n",
    "from datetime import datetime\n",
    "\n",
    "pipetotal = Pipeline([\n",
    "    ('atributosDesejados', AtributosDesejados()),\n",
    "    ('trataAtributos', trataAtributos),\n",
    "    ('classificador', RandomForestClassifier(n_jobs=-1))\n",
    "])\n",
    "\n",
    "parametros = {\n",
    "    'atributosDesejados__excluirName': [True, False],\n",
    "    'atributosDesejados__cabin': [True, False],\n",
    "    'classificador__max_depth': [None, 6],\n",
    "}\n",
    "\n",
    "# scorings = [\"accuracy\",\"balanced_accuracy\",\"average_precision\",\"f1\",\"f1_micro\",\"f1_macro\",\"f1_weighted\",\"precision\",\"roc_auc\",\"roc_auc_ovr\",\"roc_auc_ovo\",\"roc_auc_ovr_weighted\",\"roc_auc_ovo_weighted\"]\n",
    "\n",
    "scorings = ['roc_auc']\n",
    "\n",
    "for scoring in sorted(scorings, reverse=True): \n",
    "    start = datetime.now()\n",
    "\n",
    "    modelo = GridSearchCV(pipetotal, param_grid=parametros, n_jobs=-1, scoring=scoring)   \n",
    "    scores = cross_validate(modelo, X, y, cv=RepeatedKFold())\n",
    "    mean_scores, std_scores = np.mean(scores['test_score']), np.std(scores['test_score'])\n",
    "\n",
    "    end = datetime.now()\n",
    "    total = (end - start)\n",
    "    print(f\"{scoring} Total {total} - Mean scores {mean_scores}, Std {std_scores}\")\n",
    "    print(\"----------------------------\")"
   ]
  },
  {
   "cell_type": "code",
   "execution_count": 171,
   "metadata": {},
   "outputs": [],
   "source": [
    "modelo.fit(X,y)\n",
    "y_pred = modelo.predict(test)\n",
    "result = test[['PassengerId']]\n",
    "result['Survived'] = y_pred\n",
    "result.to_csv('submission.csv',index=False)"
   ]
  }
 ]
}
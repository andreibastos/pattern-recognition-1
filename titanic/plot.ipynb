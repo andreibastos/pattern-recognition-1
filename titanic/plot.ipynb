{
 "metadata": {
  "language_info": {
   "codemirror_mode": {
    "name": "ipython",
    "version": 3
   },
   "file_extension": ".py",
   "mimetype": "text/x-python",
   "name": "python",
   "nbconvert_exporter": "python",
   "pygments_lexer": "ipython3",
   "version": "3.6.9"
  },
  "orig_nbformat": 2,
  "kernelspec": {
   "name": "python3",
   "display_name": "Python 3.6.9 64-bit ('.venv': venv)",
   "metadata": {
    "interpreter": {
     "hash": "12e3a767b3ad2f27782979328795b92c097b8b0af5546e57a0bb43dd59d779c1"
    }
   }
  }
 },
 "nbformat": 4,
 "nbformat_minor": 2,
 "cells": [
  {
   "cell_type": "code",
   "execution_count": 25,
   "metadata": {},
   "outputs": [
    {
     "output_type": "stream",
     "name": "stdout",
     "text": [
      "<class 'pandas.core.frame.DataFrame'>\nInt64Index: 1309 entries, 0 to 417\nData columns (total 12 columns):\n #   Column       Non-Null Count  Dtype  \n---  ------       --------------  -----  \n 0   PassengerId  1309 non-null   int64  \n 1   Survived     891 non-null    float64\n 2   Pclass       1309 non-null   int64  \n 3   Name         1309 non-null   object \n 4   Sex          1309 non-null   object \n 5   Age          1046 non-null   float64\n 6   SibSp        1309 non-null   int64  \n 7   Parch        1309 non-null   int64  \n 8   Ticket       1309 non-null   object \n 9   Fare         1308 non-null   float64\n 10  Cabin        295 non-null    object \n 11  Embarked     1307 non-null   object \ndtypes: float64(3), int64(4), object(5)\nmemory usage: 132.9+ KB\n"
     ]
    }
   ],
   "source": [
    "import pandas as pd\n",
    "train_df = pd.read_csv('data/train.csv', header=0)\n",
    "test_df = pd.read_csv('data/test.csv', header=0)\n",
    "y = train_df['Survived']\n",
    "\n",
    "full = pd.concat([train_df , test_df]) # concatenate two dataframesSURV = 891\n",
    "\n",
    "SURV = 891\n",
    "full.info()   # info about dataframe\n"
   ]
  },
  {
   "cell_type": "code",
   "execution_count": 27,
   "metadata": {},
   "outputs": [
    {
     "output_type": "execute_result",
     "data": {
      "text/plain": [
       "                  count    sum      mean\n",
       "Pclass CabinType                        \n",
       "1      A             15    7.0  0.466667\n",
       "       B             47   35.0  0.744681\n",
       "       C             59   35.0  0.593220\n",
       "       D             29   22.0  0.758621\n",
       "       E             25   18.0  0.720000\n",
       "       T              1    0.0  0.000000\n",
       "       n             40   19.0  0.475000\n",
       "2      D              4    3.0  0.750000\n",
       "       E              4    3.0  0.750000\n",
       "       F              8    7.0  0.875000\n",
       "       n            168   74.0  0.440476\n",
       "3      E              3    3.0  1.000000\n",
       "       F              5    1.0  0.200000\n",
       "       G              4    2.0  0.500000\n",
       "       n            479  113.0  0.235908"
      ],
      "text/html": "<div>\n<style scoped>\n    .dataframe tbody tr th:only-of-type {\n        vertical-align: middle;\n    }\n\n    .dataframe tbody tr th {\n        vertical-align: top;\n    }\n\n    .dataframe thead th {\n        text-align: right;\n    }\n</style>\n<table border=\"1\" class=\"dataframe\">\n  <thead>\n    <tr style=\"text-align: right;\">\n      <th></th>\n      <th></th>\n      <th>count</th>\n      <th>sum</th>\n      <th>mean</th>\n    </tr>\n    <tr>\n      <th>Pclass</th>\n      <th>CabinType</th>\n      <th></th>\n      <th></th>\n      <th></th>\n    </tr>\n  </thead>\n  <tbody>\n    <tr>\n      <th rowspan=\"7\" valign=\"top\">1</th>\n      <th>A</th>\n      <td>15</td>\n      <td>7.0</td>\n      <td>0.466667</td>\n    </tr>\n    <tr>\n      <th>B</th>\n      <td>47</td>\n      <td>35.0</td>\n      <td>0.744681</td>\n    </tr>\n    <tr>\n      <th>C</th>\n      <td>59</td>\n      <td>35.0</td>\n      <td>0.593220</td>\n    </tr>\n    <tr>\n      <th>D</th>\n      <td>29</td>\n      <td>22.0</td>\n      <td>0.758621</td>\n    </tr>\n    <tr>\n      <th>E</th>\n      <td>25</td>\n      <td>18.0</td>\n      <td>0.720000</td>\n    </tr>\n    <tr>\n      <th>T</th>\n      <td>1</td>\n      <td>0.0</td>\n      <td>0.000000</td>\n    </tr>\n    <tr>\n      <th>n</th>\n      <td>40</td>\n      <td>19.0</td>\n      <td>0.475000</td>\n    </tr>\n    <tr>\n      <th rowspan=\"4\" valign=\"top\">2</th>\n      <th>D</th>\n      <td>4</td>\n      <td>3.0</td>\n      <td>0.750000</td>\n    </tr>\n    <tr>\n      <th>E</th>\n      <td>4</td>\n      <td>3.0</td>\n      <td>0.750000</td>\n    </tr>\n    <tr>\n      <th>F</th>\n      <td>8</td>\n      <td>7.0</td>\n      <td>0.875000</td>\n    </tr>\n    <tr>\n      <th>n</th>\n      <td>168</td>\n      <td>74.0</td>\n      <td>0.440476</td>\n    </tr>\n    <tr>\n      <th rowspan=\"4\" valign=\"top\">3</th>\n      <th>E</th>\n      <td>3</td>\n      <td>3.0</td>\n      <td>1.000000</td>\n    </tr>\n    <tr>\n      <th>F</th>\n      <td>5</td>\n      <td>1.0</td>\n      <td>0.200000</td>\n    </tr>\n    <tr>\n      <th>G</th>\n      <td>4</td>\n      <td>2.0</td>\n      <td>0.500000</td>\n    </tr>\n    <tr>\n      <th>n</th>\n      <td>479</td>\n      <td>113.0</td>\n      <td>0.235908</td>\n    </tr>\n  </tbody>\n</table>\n</div>"
     },
     "metadata": {},
     "execution_count": 27
    }
   ],
   "source": [
    "full['CabinType'] = full['Cabin'].astype(str).str[0]\n",
    "full['_CabinType'] = pd.Categorical(full.CabinType).codes\n",
    "\n",
    "full['CabinType2'] = full['Cabin'].astype(str).str[0:2]\n",
    "full['_CabinType2'] = pd.Categorical(full.CabinType2).codes"
   ]
  },
  {
   "cell_type": "code",
   "execution_count": 28,
   "metadata": {},
   "outputs": [],
   "source": [
    "full['_Sex'] = pd.Categorical(full.Sex).codes\n",
    "full['_Embarked'] = pd.Categorical(full.Embarked).codes"
   ]
  },
  {
   "cell_type": "code",
   "execution_count": 30,
   "metadata": {},
   "outputs": [],
   "source": [
    "cols = ['Age','_Embarked','Fare','Parch','Pclass','_Sex','SibSp','Survived','_CabinType']\n",
    "# full[cols].corr()\n"
   ]
  },
  {
   "cell_type": "code",
   "execution_count": 34,
   "metadata": {},
   "outputs": [],
   "source": [
    "# atribuindo 's' para as duas que estavam nula\n",
    "full.at[62,'Embarked'] = 'S'\n",
    "full.at[830,'Embarked'] = 'S'\n"
   ]
  },
  {
   "cell_type": "code",
   "execution_count": null,
   "metadata": {},
   "outputs": [],
   "source": [
    "full.at[1044,'Fare'] = 7.925\n"
   ]
  }
 ]
}
{
 "metadata": {
  "language_info": {
   "codemirror_mode": {
    "name": "ipython",
    "version": 3
   },
   "file_extension": ".py",
   "mimetype": "text/x-python",
   "name": "python",
   "nbconvert_exporter": "python",
   "pygments_lexer": "ipython3",
   "version": "3.6.9-final"
  },
  "orig_nbformat": 2,
  "kernelspec": {
   "name": "Python 3.6.9 64-bit ('.venv': venv)",
   "display_name": "Python 3.6.9 64-bit ('.venv': venv)",
   "metadata": {
    "interpreter": {
     "hash": "2b808383f55d0794e1b56bba6f3d7005b95435dd3b116c21dc39fad7923ffc31"
    }
   }
  }
 },
 "nbformat": 4,
 "nbformat_minor": 2,
 "cells": [
  {
   "cell_type": "code",
   "execution_count": 27,
   "metadata": {},
   "outputs": [],
   "source": [
    "from sklearn.datasets import fetch_openml\n",
    "import matplotlib.pyplot as plt\n",
    "stock = fetch_openml(name='stock')\n",
    "X, y = stock.data, stock.target\n"
   ]
  },
  {
   "cell_type": "code",
   "execution_count": 33,
   "metadata": {},
   "outputs": [
    {
     "output_type": "stream",
     "name": "stdout",
     "text": [
      "-4.283866298110285\n-4.365146566936284\n-4.338577372490147\n-4.31846437822477\n-4.352093403378848\n-4.3389334484487225\n-4.327577884467431\n-4.3235558026071015\n-4.330803563752437\n"
     ]
    }
   ],
   "source": [
    "from sklearn.linear_model import LogisticRegression\n",
    "from sklearn.neighbors import KNeighborsRegressor\n",
    "from sklearn.metrics import make_scorer, mean_squared_error\n",
    "from sklearn.model_selection import cross_validate\n",
    "import numpy as np \n",
    "\n",
    "for i in range(1,10):\n",
    "    # KNN\n",
    "    KNNModel = KNeighborsRegressor(i)\n",
    "    knn_scores = cross_validate(KNNModel, X, y,scoring=make_scorer(mean_squared_error, greater_is_better=False, squared=False))\n",
    "    mean = np.mean(knn_scores['test_score'])\n",
    "\n",
    "    # Logistic Regression\n",
    "    # regressionModel = LogisticRegression()\n",
    "    # regressionModel.fit(X, y)\n",
    "    \n",
    "\n",
    "    print (mean)"
   ]
  },
  {
   "cell_type": "code",
   "execution_count": null,
   "metadata": {},
   "outputs": [],
   "source": []
  }
 ]
}